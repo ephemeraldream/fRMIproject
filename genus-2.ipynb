{
 "cells": [
  {
   "cell_type": "markdown",
   "source": [],
   "metadata": {
    "collapsed": false,
    "pycharm": {
     "name": "#%% md\n"
    }
   }
  },
  {
   "cell_type": "code",
   "execution_count": null,
   "outputs": [],
   "source": [
    "import cmath\n",
    "\n",
    "\n",
    "def erdos(z, n):\n",
    "    sdf = z ** n\n",
    "    dsf = abs(z - 1) ** 2\n",
    "    return float(abs(z ** n - 1) ** 2 - 1)\n",
    "\n",
    "\n",
    "erdos(complex(-0.5, 0.5), 3)\n",
    "\n",
    "\n",
    "def genus(x, y, z):\n",
    "    comp = np.complex(x, y)\n",
    "    res = erdos(comp, 3) ** 2 + (16 * abs(comp) ** 4 + 1) * z ** 2 - 0.12 ** 2\n",
    "    return float(res)\n"
   ],
   "metadata": {
    "collapsed": false,
    "pycharm": {
     "name": "#%%\n"
    }
   }
  },
  {
   "cell_type": "code",
   "execution_count": null,
   "outputs": [],
   "source": [
    "%matplotlib inline\n",
    "from mpl_toolkits.mplot3d import axes3d\n",
    "import matplotlib.pyplot as plt\n",
    "import numpy as np\n",
    "\n",
    "def plot_implicit(fn, bbox=(-2,2)):\n",
    "    ''' create a plot of an implicit function\n",
    "    fn  ...implicit function (plot where fn==0)\n",
    "    bbox ..the x,y,and z limits of plotted interval'''\n",
    "    xmin, xmax, ymin, ymax, zmin, zmax = -0.5,2.5,-0.7,0.7,-0.5,0.5\n",
    "    fig = plt.figure()\n",
    "    ax = fig.add_subplot(111, projection='3d')\n",
    "    A = np.linspace(xmin, xmax, 1000) # resolution of the contour\n",
    "    B = np.linspace(xmin, xmax, 30) # number of slices\n",
    "    A1,A2 = np.meshgrid(A,A) # grid on which the contour is plotted\n",
    "\n",
    "    for z in B: # plot contours in the XY plane\n",
    "        X,Y = A1,A2\n",
    "        Z = fn(X,Y,z)\n",
    "        cset = ax.contour(X, Y, Z+z, [z], zdir='z')\n",
    "        # [z] defines the only level to plot for this contour for this value of z\n",
    "\n",
    "    for y in B: # plot contours in the XZ plane\n",
    "        X,Z = A1,A2\n",
    "        Y = fn(X,y,Z)\n",
    "        cset = ax.contour(X, Y+y, Z, [y], zdir='y')\n",
    "\n",
    "    for x in B: # plot contours in the YZ plane\n",
    "        Y,Z = A1,A2\n",
    "        X = fn(x,Y,Z)\n",
    "        cset = ax.contour(X+x, Y, Z, [x], zdir='x')\n",
    "\n",
    "    # must set plot limits because the contour will likely extend\n",
    "    # way beyond the displayed level.  Otherwise matplotlib extends the plot limits\n",
    "    # to encompass all values in the contour.\n",
    "    ax.set_zlim3d(zmin,zmax)\n",
    "    ax.set_xlim3d(xmin,xmax)\n",
    "    ax.set_ylim3d(ymin,ymax)\n",
    "\n",
    "    plt.show()"
   ],
   "metadata": {
    "collapsed": false,
    "pycharm": {
     "name": "#%%\n"
    }
   }
  },
  {
   "cell_type": "code",
   "execution_count": null,
   "outputs": [],
   "source": [
    "%matplotlib inline\n",
    "def goursat_tangle(x,y,z):\n",
    "    return (x*(x-1)**2*(x-2)+(y)**2)**2 +(z)**2 - 0.025\n",
    "plot_implicit(goursat_tangle,)\n"
   ],
   "metadata": {
    "collapsed": false,
    "pycharm": {
     "name": "#%%\n"
    }
   }
  },
  {
   "cell_type": "code",
   "execution_count": null,
   "outputs": [],
   "source": [
    "import cmath\n",
    "def erdos(z, n):\n",
    "    return float(abs(z**n - 1)**2 - 1)\n"
   ],
   "metadata": {
    "collapsed": false,
    "pycharm": {
     "name": "#%%\n"
    }
   }
  },
  {
   "cell_type": "code",
   "execution_count": null,
   "outputs": [],
   "source": [
    "def genus(x,y,z):\n",
    "    comp = np.complex(x,y)\n",
    "    res = erdos(comp, 3)**2 + (16 * abs(comp)**4 + 1) * z**2 - 0.12**2\n",
    "    return float(res)\n"
   ],
   "metadata": {
    "collapsed": false,
    "pycharm": {
     "name": "#%%\n"
    }
   }
  },
  {
   "cell_type": "code",
   "execution_count": null,
   "outputs": [],
   "source": [
    "plot_implicit(genus)"
   ],
   "metadata": {
    "collapsed": false,
    "pycharm": {
     "name": "#%%\n"
    }
   }
  },
  {
   "cell_type": "code",
   "execution_count": null,
   "outputs": [],
   "source": [],
   "metadata": {
    "collapsed": false,
    "pycharm": {
     "name": "#%%\n"
    }
   }
  },
  {
   "cell_type": "code",
   "execution_count": null,
   "outputs": [],
   "source": [
    "import math\n",
    "import random\n",
    "import numpy as np\n",
    "import pandas as pd\n",
    "\n",
    "x = [random.uniform(-0.5,2.5) for i in range(50000000)]\n",
    "y = [random.uniform(-0.7,0.7) for i in range(50000000)]\n",
    "z = [random.uniform(-0.5,0.5) for i in range(50000000)]\n",
    "\n",
    "\n",
    "\n",
    "\n",
    "ls = []\n",
    "\n",
    "for i in range(len(x)):\n",
    "    number = goursat_tangle(x[i], y[i], z[i])\n",
    "\n",
    "    if 0.000003 > number > -0.000003:\n",
    "        ls.append((x[i], y[i], z[i]))\n",
    "        #genus_points.loc[len(genus_points)] = [x[i], y[i], z[i]]\n",
    "\n",
    "ls\n"
   ],
   "metadata": {
    "collapsed": false,
    "pycharm": {
     "name": "#%%\n"
    }
   }
  },
  {
   "cell_type": "code",
   "execution_count": null,
   "outputs": [],
   "source": [
    "len(ls)"
   ],
   "metadata": {
    "collapsed": false,
    "pycharm": {
     "name": "#%%\n"
    }
   }
  },
  {
   "cell_type": "code",
   "execution_count": null,
   "outputs": [],
   "source": [],
   "metadata": {
    "collapsed": false,
    "pycharm": {
     "name": "#%%\n"
    }
   }
  },
  {
   "cell_type": "code",
   "execution_count": null,
   "outputs": [],
   "source": [
    "\n",
    "\n",
    "\n",
    "\n",
    "\n",
    "\n",
    "%matplotlib inline\n",
    "from gtda.plotting import plot_point_cloud\n",
    "import matplotlib.pyplot as plt\n",
    "from mpl_toolkits import mplot3d\n",
    "from mpl_toolkits.mplot3d import Axes3D\n",
    "points = pd.DataFrame(data=ls)\n",
    "points = points.to_numpy()\n",
    "\n",
    "\n",
    "#fig = plt.figure()\n",
    "#ax = plt.axes(projection='3d')\n",
    "plot_point_cloud(points)\n",
    "#ax.scatter(points[:,0], points[:,1], points[:,2], cmap='viridis', linewidth=0.5)\n",
    "#plt.set_zlim(-0.7, 0.7)"
   ],
   "metadata": {
    "collapsed": false,
    "pycharm": {
     "name": "#%%\n"
    }
   }
  },
  {
   "cell_type": "code",
   "execution_count": null,
   "outputs": [],
   "source": [
    "ls"
   ],
   "metadata": {
    "collapsed": false,
    "pycharm": {
     "name": "#%%\n"
    }
   }
  },
  {
   "cell_type": "code",
   "execution_count": null,
   "outputs": [],
   "source": [
    "import gudhi as gd\n",
    "import gudhi.representations\n",
    "gudhi.persistence_graphical_tools._gudhi_matplotlib_use_tex=False"
   ],
   "metadata": {
    "collapsed": false,
    "pycharm": {
     "name": "#%%\n"
    }
   }
  },
  {
   "cell_type": "code",
   "execution_count": null,
   "outputs": [],
   "source": [
    "cw = gd.RipsComplex(points=points).create_simplex_tree()\n",
    "persist_diag = complex.persistence()"
   ],
   "metadata": {
    "collapsed": false,
    "pycharm": {
     "name": "#%%\n",
     "is_executing": true
    }
   }
  },
  {
   "cell_type": "code",
   "execution_count": null,
   "outputs": [],
   "source": [
    "gd.plot_persistence_diagram(persist_diag)\n",
    "cw.compute_persistence()\n",
    "cw.betti_numbers()"
   ],
   "metadata": {
    "collapsed": false,
    "pycharm": {
     "name": "#%%\n"
    }
   }
  },
  {
   "cell_type": "code",
   "execution_count": null,
   "outputs": [],
   "source": [
    "LS = gd.representations.Landscape(resolution=1000)\n",
    "cw.compute_persistence()\n",
    "L = LS.fit_transform([cw.persistence_intervals_in_dimension(1)])\n",
    "plt.plot(L[0][:1000])\n",
    "plt.plot(L[0][1000:2000])\n",
    "plt.plot(L[0][2000:3000])\n",
    "plt.title(\"Landscape\")\n",
    "plt.show()"
   ],
   "metadata": {
    "collapsed": false,
    "pycharm": {
     "name": "#%%\n"
    }
   }
  }
 ],
 "metadata": {
  "kernelspec": {
   "display_name": "Python 3",
   "language": "python",
   "name": "python3"
  },
  "language_info": {
   "codemirror_mode": {
    "name": "ipython",
    "version": 2
   },
   "file_extension": ".py",
   "mimetype": "text/x-python",
   "name": "python",
   "nbconvert_exporter": "python",
   "pygments_lexer": "ipython2",
   "version": "2.7.6"
  }
 },
 "nbformat": 4,
 "nbformat_minor": 0
}